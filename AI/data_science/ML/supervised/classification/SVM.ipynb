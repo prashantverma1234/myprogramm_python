{
 "cells": [
  {
   "cell_type": "markdown",
   "metadata": {},
   "source": [
    "SVM:\n",
    "    \n",
    "    the great benifit is it can operates even in infinite dimension\n",
    "    \n",
    "    SVm find a hyperplane that leads to homogeneous partition of data\n",
    "    \n",
    "    "
   ]
  },
  {
   "cell_type": "markdown",
   "metadata": {},
   "source": [
    "SVM obejective is to maximize the margin\n",
    "\n",
    "the margine is defined as the distance b/W the sperarating hyperplane(dicision boundary) and the taining sample that are close to this hyperplane,which are called suport vector"
   ]
  },
  {
   "cell_type": "markdown",
   "metadata": {},
   "source": [
    "##C is regularization parameter\n",
    "\n",
    "for large value of c the optimization will choose a smaller-margin hyperplane if that hyperplane does a better job of getting all the trainning point classified corectly\n",
    "\n"
   ]
  },
  {
   "cell_type": "code",
   "execution_count": null,
   "metadata": {},
   "outputs": [],
   "source": []
  }
 ],
 "metadata": {
  "kernelspec": {
   "display_name": "Python 3",
   "language": "python",
   "name": "python3"
  },
  "language_info": {
   "codemirror_mode": {
    "name": "ipython",
    "version": 3
   },
   "file_extension": ".py",
   "mimetype": "text/x-python",
   "name": "python",
   "nbconvert_exporter": "python",
   "pygments_lexer": "ipython3",
   "version": "3.6.4"
  }
 },
 "nbformat": 4,
 "nbformat_minor": 2
}
