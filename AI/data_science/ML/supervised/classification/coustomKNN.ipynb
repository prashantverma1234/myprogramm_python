{
 "cells": [
  {
   "cell_type": "code",
   "execution_count": 6,
   "metadata": {},
   "outputs": [],
   "source": [
    "import numpy as np\n",
    "from collections import Counter"
   ]
  },
  {
   "cell_type": "code",
   "execution_count": 7,
   "metadata": {},
   "outputs": [],
   "source": [
    "class KNN:\n",
    "    def __init__(self,k=5):\n",
    "        self.k=k\n",
    "    def fit(self,x_train,y_train):\n",
    "        self.x_train=x_train\n",
    "        self.y_train=y_train\n",
    "        \n",
    "    def predict(self,x_test):\n",
    "        prediction=[]\n",
    "        \n",
    "        if(x_test.ndim==2):\n",
    "            for i in range(len(x_test)):\n",
    "                prediction.append(self.find_distance(x_test[i,:]))\n",
    "                \n",
    "            return np.asarray(prediction)\n",
    "        else:\n",
    "            print(\"expected 2d array and got 1D array\")\n",
    "            \n",
    "    def find_distance(self,test):\n",
    "        distance=[]\n",
    "        target=[]\n",
    "        #index=[]\n",
    "        for i in range(len(self.x_train)):\n",
    "            d=np.sqrt(np.sum(np.square(test-self.x_train[i:])))\n",
    "            distance.append([d,i])\n",
    "            \n",
    "            \n",
    "        distance=sorted(distance,key=lambda x:x[0])\n",
    "            \n",
    "        for i in range(self.k):\n",
    "            index=distance[i][1]\n",
    "            target.append(self.y_train[index])\n",
    "                \n",
    "        vote=Counter(target).most_common(1)[0][0]\n",
    "            \n",
    "        return vote"
   ]
  },
  {
   "cell_type": "code",
   "execution_count": 8,
   "metadata": {
    "scrolled": false
   },
   "outputs": [
    {
     "data": {
      "text/plain": [
       "-0.22490563733088043"
      ]
     },
     "execution_count": 8,
     "metadata": {},
     "output_type": "execute_result"
    }
   ],
   "source": [
    "from sklearn.datasets import load_digits\n",
    "digits=load_digits()\n",
    "x=digits.data\n",
    "y=digits.target\n",
    "from sklearn.model_selection import train_test_split\n",
    "x_train,x_test,y_train,y_test=train_test_split(x,y,test_size=.2,random_state=15)\n",
    "from sklearn.metrics import r2_score\n",
    "   \n",
    "k1=KNN()\n",
    "k1.fit(x_train,y_train)\n",
    "pred=k1.predict(x_test)\n",
    "r2_score(y_test,pred)\n"
   ]
  },
  {
   "cell_type": "code",
   "execution_count": null,
   "metadata": {},
   "outputs": [],
   "source": []
  },
  {
   "cell_type": "code",
   "execution_count": null,
   "metadata": {},
   "outputs": [],
   "source": []
  },
  {
   "cell_type": "code",
   "execution_count": null,
   "metadata": {},
   "outputs": [],
   "source": []
  }
 ],
 "metadata": {
  "kernelspec": {
   "display_name": "Python 3",
   "language": "python",
   "name": "python3"
  },
  "language_info": {
   "codemirror_mode": {
    "name": "ipython",
    "version": 3
   },
   "file_extension": ".py",
   "mimetype": "text/x-python",
   "name": "python",
   "nbconvert_exporter": "python",
   "pygments_lexer": "ipython3",
   "version": "3.6.4"
  }
 },
 "nbformat": 4,
 "nbformat_minor": 2
}
