{
 "cells": [
  {
   "cell_type": "markdown",
   "metadata": {},
   "source": [
    "classification:-\n",
    "    \n",
    "    knn\n",
    "    logistic regression\n",
    "    SVM\n",
    "    NB\n",
    "    DT & RF\n",
    "    \n",
    "boosting algo:-\n",
    "    \n",
    "    adaboost\n",
    "    gradient boosting\n",
    "    extreme GB\n",
    "    \n"
   ]
  },
  {
   "cell_type": "markdown",
   "metadata": {},
   "source": [
    "cross validation\n",
    "\n",
    "grid search\n",
    "\n",
    "\n",
    "acuuracy score:-\n",
    "\n",
    "     r2 and accuracy\n",
    "     recall\n",
    "     precision\n",
    "     ric_auc_score\n",
    "\n",
    "\n",
    "confusion matrix:"
   ]
  },
  {
   "cell_type": "markdown",
   "metadata": {},
   "source": [
    "ridge_regression\n",
    "\n",
    "linear regression"
   ]
  },
  {
   "cell_type": "code",
   "execution_count": null,
   "metadata": {},
   "outputs": [],
   "source": []
  }
 ],
 "metadata": {
  "kernelspec": {
   "display_name": "Python 3",
   "language": "python",
   "name": "python3"
  },
  "language_info": {
   "codemirror_mode": {
    "name": "ipython",
    "version": 3
   },
   "file_extension": ".py",
   "mimetype": "text/x-python",
   "name": "python",
   "nbconvert_exporter": "python",
   "pygments_lexer": "ipython3",
   "version": "3.6.4"
  }
 },
 "nbformat": 4,
 "nbformat_minor": 2
}
