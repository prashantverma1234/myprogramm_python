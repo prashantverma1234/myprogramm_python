{
 "cells": [
  {
   "cell_type": "markdown",
   "metadata": {},
   "source": [
    "classification:-\n",
    "    \n",
    "    knn\n",
    "    logistic regression\n",
    "    SVM\n",
    "    NB\n",
    "    DT & RF\n",
    "    \n",
    "boosting algo:-\n",
    "    \n",
    "    adaboost\n",
    "    gradient boosting\n",
    "    extreme GB\n",
    "    \n"
   ]
  },
  {
   "cell_type": "raw",
   "metadata": {},
   "source": []
  }
 ],
 "metadata": {
  "kernelspec": {
   "display_name": "Python 3",
   "language": "python",
   "name": "python3"
  },
  "language_info": {
   "codemirror_mode": {
    "name": "ipython",
    "version": 3
   },
   "file_extension": ".py",
   "mimetype": "text/x-python",
   "name": "python",
   "nbconvert_exporter": "python",
   "pygments_lexer": "ipython3",
   "version": "3.6.4"
  }
 },
 "nbformat": 4,
 "nbformat_minor": 2
}
