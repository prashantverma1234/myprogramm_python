{
 "cells": [
  {
   "cell_type": "code",
   "execution_count": 2,
   "metadata": {},
   "outputs": [],
   "source": [
    "from sklearn.model_selection import cross_val_score\n",
    "from sklearn.neighbors import KNeighborsClassifier\n",
    "from sklearn.linear_model import LogisticRegression\n",
    "from sklearn.datasets import load_digits,load_iris\n",
    "from sklearn.metrics import accuracy_score"
   ]
  },
  {
   "cell_type": "code",
   "execution_count": 3,
   "metadata": {},
   "outputs": [],
   "source": [
    "iris=load_iris()\n"
   ]
  },
  {
   "cell_type": "code",
   "execution_count": 4,
   "metadata": {},
   "outputs": [],
   "source": [
    "x=iris.data[50:]\n",
    "y=iris.target[50:]"
   ]
  },
  {
   "cell_type": "code",
   "execution_count": 10,
   "metadata": {},
   "outputs": [],
   "source": [
    "log=cross_val_score(LogisticRegression(),x,y,cv=5,scoring='accuracy')\n",
    "\n",
    "knn=cross_val_score(KNeighborsClassifier(),x,y,cv=5,scoring='accuracy')"
   ]
  },
  {
   "cell_type": "code",
   "execution_count": 11,
   "metadata": {},
   "outputs": [
    {
     "data": {
      "text/plain": [
       "0.97"
      ]
     },
     "execution_count": 11,
     "metadata": {},
     "output_type": "execute_result"
    }
   ],
   "source": [
    "log.mean()"
   ]
  },
  {
   "cell_type": "code",
   "execution_count": 12,
   "metadata": {},
   "outputs": [
    {
     "data": {
      "text/plain": [
       "0.96"
      ]
     },
     "execution_count": 12,
     "metadata": {},
     "output_type": "execute_result"
    }
   ],
   "source": [
    "knn.mean()"
   ]
  },
  {
   "cell_type": "code",
   "execution_count": null,
   "metadata": {},
   "outputs": [],
   "source": [
    "\n"
   ]
  },
  {
   "cell_type": "code",
   "execution_count": 13,
   "metadata": {},
   "outputs": [],
   "source": [
    "from sklearn.model_selection import KFold"
   ]
  },
  {
   "cell_type": "code",
   "execution_count": 14,
   "metadata": {},
   "outputs": [],
   "source": [
    "kf=KFold(n_splits=5,shuffle=True)"
   ]
  },
  {
   "cell_type": "code",
   "execution_count": 15,
   "metadata": {},
   "outputs": [
    {
     "name": "stdout",
     "output_type": "stream",
     "text": [
      "train \t\t\t\t\t\t\t\t\t\t\\t test\n",
      "[ 0  1  2  4  6  7  9 11 12 13 14 15 17 18 21 22 24 25 26 28 29 30 31 32\n",
      " 34 35 36 37 38 39 40 43 44 45 46 47 48 49 50 51 52 53 54 55 56 57 58 61\n",
      " 62 63 64 65 66 67 68 69 71 72 73 75 77 78 79 81 82 83 84 85 86 87 88 89\n",
      " 90 91 92 93 96 97 98 99] \t\t\t\t [ 3  5  8 10 16 19 20 23 27 33 41 42 59 60 70 74 76 80 94 95]\n",
      "\n",
      "train \t\t\t\t\t\t\t\t\t\t\\t test\n",
      "[ 1  2  3  4  5  6  7  8  9 10 12 13 14 15 16 18 19 20 21 22 23 24 26 27\n",
      " 29 30 31 32 33 34 35 36 37 41 42 43 44 45 46 47 48 49 51 52 54 55 56 57\n",
      " 59 60 62 65 66 67 68 69 70 71 72 73 74 75 76 77 78 79 80 81 85 87 88 89\n",
      " 90 91 94 95 96 97 98 99] \t\t\t\t [ 0 11 17 25 28 38 39 40 50 53 58 61 63 64 82 83 84 86 92 93]\n",
      "\n",
      "train \t\t\t\t\t\t\t\t\t\t\\t test\n",
      "[ 0  1  3  4  5  7  8  9 10 11 12 13 14 15 16 17 18 19 20 21 22 23 24 25\n",
      " 26 27 28 29 30 32 33 34 35 36 37 38 39 40 41 42 44 47 48 50 53 54 57 58\n",
      " 59 60 61 62 63 64 66 67 69 70 71 74 76 78 79 80 82 83 84 85 86 87 89 90\n",
      " 91 92 93 94 95 96 98 99] \t\t\t\t [ 2  6 31 43 45 46 49 51 52 55 56 65 68 72 73 75 77 81 88 97]\n",
      "\n",
      "train \t\t\t\t\t\t\t\t\t\t\\t test\n",
      "[ 0  1  2  3  4  5  6  7  8  9 10 11 12 16 17 18 19 20 22 23 25 26 27 28\n",
      " 29 31 32 33 35 37 38 39 40 41 42 43 44 45 46 47 48 49 50 51 52 53 55 56\n",
      " 58 59 60 61 63 64 65 68 70 71 72 73 74 75 76 77 80 81 82 83 84 85 86 87\n",
      " 88 92 93 94 95 96 97 99] \t\t\t\t [13 14 15 21 24 30 34 36 54 57 62 66 67 69 78 79 89 90 91 98]\n",
      "\n",
      "train \t\t\t\t\t\t\t\t\t\t\\t test\n",
      "[ 0  2  3  5  6  8 10 11 13 14 15 16 17 19 20 21 23 24 25 27 28 30 31 33\n",
      " 34 36 38 39 40 41 42 43 45 46 49 50 51 52 53 54 55 56 57 58 59 60 61 62\n",
      " 63 64 65 66 67 68 69 70 72 73 74 75 76 77 78 79 80 81 82 83 84 86 88 89\n",
      " 90 91 92 93 94 95 97 98] \t\t\t\t [ 1  4  7  9 12 18 22 26 29 32 35 37 44 47 48 71 85 87 96 99]\n",
      "\n"
     ]
    }
   ],
   "source": [
    "for i,k in kf.split(x):\n",
    "    print('train','\\t\\t\\t\\t\\t\\t\\t\\t\\t\\t\\\\t','test')\n",
    "    \n",
    "    print(i,'\\t\\t\\t\\t',k)\n",
    "    print(\"\")"
   ]
  },
  {
   "cell_type": "code",
   "execution_count": 19,
   "metadata": {},
   "outputs": [],
   "source": [
    "log=cross_val_score(LogisticRegression(),x,y,cv=kf,scoring='accuracy')\n",
    "\n",
    "knn=cross_val_score(KNeighborsClassifier(),x,y,cv=kf,scoring='accuracy')"
   ]
  },
  {
   "cell_type": "code",
   "execution_count": 20,
   "metadata": {},
   "outputs": [
    {
     "data": {
      "text/plain": [
       "0.96"
      ]
     },
     "execution_count": 20,
     "metadata": {},
     "output_type": "execute_result"
    }
   ],
   "source": [
    "log.mean()"
   ]
  },
  {
   "cell_type": "code",
   "execution_count": 21,
   "metadata": {},
   "outputs": [
    {
     "data": {
      "text/plain": [
       "0.9400000000000001"
      ]
     },
     "execution_count": 21,
     "metadata": {},
     "output_type": "execute_result"
    }
   ],
   "source": [
    "knn.mean()"
   ]
  },
  {
   "cell_type": "code",
   "execution_count": null,
   "metadata": {},
   "outputs": [],
   "source": []
  },
  {
   "cell_type": "code",
   "execution_count": 22,
   "metadata": {},
   "outputs": [],
   "source": [
    "digit=load_digits()"
   ]
  },
  {
   "cell_type": "code",
   "execution_count": 23,
   "metadata": {},
   "outputs": [],
   "source": [
    "x=digit.images\n",
    "y=digit.target"
   ]
  },
  {
   "cell_type": "code",
   "execution_count": 24,
   "metadata": {},
   "outputs": [],
   "source": [
    "x=x.reshape(len(x),-1)"
   ]
  },
  {
   "cell_type": "code",
   "execution_count": 25,
   "metadata": {},
   "outputs": [
    {
     "data": {
      "text/plain": [
       "(1797, 64)"
      ]
     },
     "execution_count": 25,
     "metadata": {},
     "output_type": "execute_result"
    }
   ],
   "source": [
    "x.shape"
   ]
  },
  {
   "cell_type": "code",
   "execution_count": 26,
   "metadata": {},
   "outputs": [],
   "source": [
    "kf=KFold(5,shuffle=True)"
   ]
  },
  {
   "cell_type": "code",
   "execution_count": 27,
   "metadata": {},
   "outputs": [],
   "source": [
    "log=cross_val_score(LogisticRegression(),x,y,cv=kf,scoring='accuracy')\n",
    "\n",
    "knn=cross_val_score(KNeighborsClassifier(),x,y,cv=kf,scoring='accuracy')"
   ]
  },
  {
   "cell_type": "code",
   "execution_count": 32,
   "metadata": {},
   "outputs": [
    {
     "data": {
      "text/plain": [
       "0.9627096874032807"
      ]
     },
     "execution_count": 32,
     "metadata": {},
     "output_type": "execute_result"
    }
   ],
   "source": [
    "log.mean()"
   ]
  },
  {
   "cell_type": "code",
   "execution_count": 29,
   "metadata": {},
   "outputs": [
    {
     "data": {
      "text/plain": [
       "0.986089445991953"
      ]
     },
     "execution_count": 29,
     "metadata": {},
     "output_type": "execute_result"
    }
   ],
   "source": [
    "knn.mean()"
   ]
  },
  {
   "cell_type": "code",
   "execution_count": null,
   "metadata": {},
   "outputs": [],
   "source": []
  },
  {
   "cell_type": "code",
   "execution_count": null,
   "metadata": {},
   "outputs": [],
   "source": []
  }
 ],
 "metadata": {
  "kernelspec": {
   "display_name": "Python 3",
   "language": "python",
   "name": "python3"
  },
  "language_info": {
   "codemirror_mode": {
    "name": "ipython",
    "version": 3
   },
   "file_extension": ".py",
   "mimetype": "text/x-python",
   "name": "python",
   "nbconvert_exporter": "python",
   "pygments_lexer": "ipython3",
   "version": "3.6.4"
  }
 },
 "nbformat": 4,
 "nbformat_minor": 2
}
