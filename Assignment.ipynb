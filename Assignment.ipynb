{
 "cells": [
  {
   "cell_type": "code",
   "execution_count": 33,
   "metadata": {},
   "outputs": [],
   "source": [
    "def match(word):\n",
    "\n",
    "    data=['machine','learning','is','an','application','of','artificial','intelligence','that','provides']\n",
    " \n",
    "    max1=0\n",
    "    for i in range(0,len(data)):\n",
    "        k=0\n",
    "        r=min(len(data[i]),len(word))\n",
    "    \n",
    "        for j in range(0,r):\n",
    "        \n",
    "            if((data[i][j]==word[j])):\n",
    "                k=k+1\n",
    "               \n",
    "           # print((data[i][j]) and (word[j]),end=\"\")\n",
    "            \n",
    "               \n",
    "        if(k>max1):\n",
    "            max1=k\n",
    "            st=data[i]\n",
    "        \n",
    "    print(\"your word\",word,\"is matched with\",st,\"with\",max1,\"charactes\")\n",
    "            \n",
    "    print(\"And accuracy of maching is\",max1/len(word))   "
   ]
  },
  {
   "cell_type": "code",
   "execution_count": 34,
   "metadata": {},
   "outputs": [
    {
     "name": "stdout",
     "output_type": "stream",
     "text": [
      "your word cation  is matched with machine with 2 charactes\n",
      "And accuracy of maching is 0.2857142857142857\n"
     ]
    }
   ],
   "source": [
    "match(\"cation \")"
   ]
  },
  {
   "cell_type": "code",
   "execution_count": null,
   "metadata": {},
   "outputs": [],
   "source": []
  }
 ],
 "metadata": {
  "kernelspec": {
   "display_name": "Python 3",
   "language": "python",
   "name": "python3"
  },
  "language_info": {
   "codemirror_mode": {
    "name": "ipython",
    "version": 3
   },
   "file_extension": ".py",
   "mimetype": "text/x-python",
   "name": "python",
   "nbconvert_exporter": "python",
   "pygments_lexer": "ipython3",
   "version": "3.6.4"
  }
 },
 "nbformat": 4,
 "nbformat_minor": 2
}
