{
 "cells": [
  {
   "cell_type": "code",
   "execution_count": 13,
   "metadata": {},
   "outputs": [],
   "source": [
    "def match(word):\n",
    "\n",
    "    data=['machine','learning','is','an','application','of','artificial','intelligence','that','provides']\n",
    "    \n",
    "    k = 0\n",
    "    max_len = 0\n",
    "    \n",
    "    for i in range(0,len(word)):\n",
    "        \n",
    "        max_len = 0\n",
    "        for j in range(0,len(data)):\n",
    "        \n",
    "            temp1 = set(data[i])\n",
    "            temp2 = set(word[i])\n",
    "            k = len(temp1 & temp2)\n",
    "        \n",
    "            if(k> max_len):     \n",
    "                max_len = k\n",
    "                str1=data[j]\n",
    "                     \n",
    "        print(\"word\", word[i], \"matched with\", str1, \"with\", max_len, \"characters\")\n",
    "            \n",
    "        print(\"And accuracy of maching is\",max_len/max(len(word), len(str1)))"
   ]
  },
  {
   "cell_type": "code",
   "execution_count": 14,
   "metadata": {},
   "outputs": [
    {
     "name": "stdout",
     "output_type": "stream",
     "text": [
      "word hello matched with machine with 2 characters\n",
      "And accuracy of maching is 0.2857142857142857\n",
      "word th matched with machine with 0 characters\n",
      "And accuracy of maching is 0.0\n"
     ]
    }
   ],
   "source": [
    "match(['hello', 'th'])"
   ]
  },
  {
   "cell_type": "code",
   "execution_count": null,
   "metadata": {},
   "outputs": [],
   "source": [
    "\"machine\" and \"cate\""
   ]
  },
  {
   "cell_type": "code",
   "execution_count": null,
   "metadata": {},
   "outputs": [],
   "source": []
  }
 ],
 "metadata": {
  "kernelspec": {
   "display_name": "Python 3",
   "language": "python",
   "name": "python3"
  },
  "language_info": {
   "codemirror_mode": {
    "name": "ipython",
    "version": 3
   },
   "file_extension": ".py",
   "mimetype": "text/x-python",
   "name": "python",
   "nbconvert_exporter": "python",
   "pygments_lexer": "ipython3",
   "version": "3.6.4"
  }
 },
 "nbformat": 4,
 "nbformat_minor": 2
}
