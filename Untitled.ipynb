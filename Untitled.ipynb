{
 "cells": [
  {
   "cell_type": "code",
   "execution_count": 21,
   "metadata": {},
   "outputs": [],
   "source": [
    "def match(words, para):\n",
    "    \n",
    "    for i in words:\n",
    "        max_len = 0\n",
    "        matched_word = ''\n",
    "        \n",
    "        for j in para:   \n",
    "            \n",
    "            matched = (len((set(i) & set(j))))\n",
    "            if max_len < matched:\n",
    "                max_len = matched\n",
    "                matched_word = j\n",
    "                \n",
    "        print(\"word '%s' mathced with '%s' with common characters %d and accuracy %f\"\\\n",
    "               %(i, matched_word, max_len, (max_len)/max(len(set(i)), len(set(matched_word))))) "
   ]
  },
  {
   "cell_type": "code",
   "execution_count": 22,
   "metadata": {},
   "outputs": [],
   "source": [
    "paragraph = \"For physical control tasks we used reward functions which provide feedback at every step.\\\n",
    "             In all tasks, the reward contained a small action cost. For all tasks that have a static goal\\\n",
    "             state we provide a smoothly varying reward based on distance\\\n",
    "             to a goal state, and in some cases an additional positive reward when within a small radius of the\\\n",
    "             target state. For grasping and manipulation tasks we used a reward with a term which encourages\\\n",
    "             movement towards the payload and a second component which encourages moving the payload to the target.\\\n",
    "             In locomotion tasks we reward forward action and penalize hard impacts to encourage smooth rather \""
   ]
  },
  {
   "cell_type": "code",
   "execution_count": 23,
   "metadata": {},
   "outputs": [
    {
     "name": "stdout",
     "output_type": "stream",
     "text": [
      "enter sentence: hello prahanh\n"
     ]
    }
   ],
   "source": [
    "words = input(\"enter sentence: \")"
   ]
  },
  {
   "cell_type": "code",
   "execution_count": 24,
   "metadata": {},
   "outputs": [],
   "source": [
    "para = paragraph.split(' ')\n",
    "words = words.split(' ')"
   ]
  },
  {
   "cell_type": "code",
   "execution_count": 25,
   "metadata": {},
   "outputs": [
    {
     "name": "stdout",
     "output_type": "stream",
     "text": [
      "word 'hello' mathced with 'smoothly' with common characters 3 and accuracy 0.428571\n",
      "word 'prahanh' mathced with 'grasping' with common characters 4 and accuracy 0.571429\n"
     ]
    }
   ],
   "source": [
    "match(words, para)"
   ]
  },
  {
   "cell_type": "code",
   "execution_count": null,
   "metadata": {},
   "outputs": [],
   "source": []
  }
 ],
 "metadata": {
  "kernelspec": {
   "display_name": "Python 3",
   "language": "python",
   "name": "python3"
  },
  "language_info": {
   "codemirror_mode": {
    "name": "ipython",
    "version": 3
   },
   "file_extension": ".py",
   "mimetype": "text/x-python",
   "name": "python",
   "nbconvert_exporter": "python",
   "pygments_lexer": "ipython3",
   "version": "3.6.4"
  }
 },
 "nbformat": 4,
 "nbformat_minor": 2
}
