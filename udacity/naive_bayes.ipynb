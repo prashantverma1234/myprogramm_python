{
 "cells": [
  {
   "cell_type": "code",
   "execution_count": 12,
   "metadata": {},
   "outputs": [
    {
     "name": "stdout",
     "output_type": "stream",
     "text": [
      "[1]\n",
      "[2]\n",
      "[2]\n",
      "[2]\n",
      "[2]\n",
      "[2]\n"
     ]
    }
   ],
   "source": [
    "import numpy as np\n",
    "#features_test,labels_test=makeTerrainData()\n",
    "\n",
    "# x has featues\n",
    "x=np.array([[-1,-1],[-2,-1],[-3,-2],[1,1],[2,1],[3,2]])\n",
    "\n",
    "# y has labels\n",
    "y=np.array([1,1,1,2,2,2])\n",
    "\n",
    "# it is algorithm for classification data\n",
    "from sklearn.naive_bayes import GaussianNB\n",
    "#features_test,labels_test=makeTerraindata()\n",
    "clf=GaussianNB()\n",
    "\n",
    "# to classification data\n",
    "clf.fit(x,y)\n",
    "for i in range(0,6):\n",
    "    a=clf.predict([[i,i]])\n",
    "    #print(end=\"\")\n",
    "    print(a)\n",
    "    \n",
    "#from sklearn.metrics import accuracy_score  \n",
    "#print(clf.score(features_test,a))"
   ]
  },
  {
   "cell_type": "code",
   "execution_count": 30,
   "metadata": {},
   "outputs": [
    {
     "name": "stdout",
     "output_type": "stream",
     "text": [
      "[]\n"
     ]
    }
   ],
   "source": [
    "s=a[4:]\n",
    "print(s)"
   ]
  },
  {
   "cell_type": "code",
   "execution_count": null,
   "metadata": {},
   "outputs": [],
   "source": []
  }
 ],
 "metadata": {
  "kernelspec": {
   "display_name": "Python 3",
   "language": "python",
   "name": "python3"
  },
  "language_info": {
   "codemirror_mode": {
    "name": "ipython",
    "version": 3
   },
   "file_extension": ".py",
   "mimetype": "text/x-python",
   "name": "python",
   "nbconvert_exporter": "python",
   "pygments_lexer": "ipython3",
   "version": "3.6.4"
  }
 },
 "nbformat": 4,
 "nbformat_minor": 2
}
