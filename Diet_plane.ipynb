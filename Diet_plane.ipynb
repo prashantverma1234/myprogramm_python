{
 "cells": [
  {
   "cell_type": "code",
   "execution_count": 1,
   "metadata": {},
   "outputs": [
    {
     "name": "stdout",
     "output_type": "stream",
     "text": [
      "how is your currunt weight  54\n",
      "how to up you want to gain your weight  60\n",
      "In how many month1\n",
      "press 1 for you do gym otherwise 00\n",
      "your current requried calories is per day =  1555.2\n",
      "you need to Calories per day to reach your goal  1555.2 + 1543.234 = 3098.434\n",
      "when you reach to your goal then your calories will be per day =  1728.0\n"
     ]
    }
   ],
   "source": [
    "CW=int(input(\"how is your currunt weight  \"))\n",
    "UW=int(input(\"how to up you want to gain your weight  \"))\n",
    "\n",
    "M=int(input(\"In how many month\"))\n",
    "\n",
    "k1=2.20462*3500\n",
    "s=int(input(\"press 1 for you do gym otherwise 0\"))\n",
    "\n",
    "if(s==0):\n",
    "    DK=CW*24*1.2\n",
    "    UK=UW*24*1.2\n",
    "else:\n",
    "    DK=CW*24*1.5\n",
    "    UK=UW*24*1.5\n",
    "    \n",
    "k=k1*(UW-CW)\n",
    "\n",
    "daily_c=k/(30*M)\n",
    "\n",
    "print(\"your current requried calories is per day = \",DK)\n",
    "print(\"you need to Calories per day to reach your goal \",DK,\"+\",daily_c,\"=\",DK+daily_c)\n",
    "print(\"when you reach to your goal then your calories will be per day = \",UK)\n",
    "\n",
    "    \n"
   ]
  },
  {
   "cell_type": "code",
   "execution_count": null,
   "metadata": {},
   "outputs": [],
   "source": [
    "  "
   ]
  },
  {
   "cell_type": "code",
   "execution_count": null,
   "metadata": {},
   "outputs": [],
   "source": []
  },
  {
   "cell_type": "code",
   "execution_count": null,
   "metadata": {},
   "outputs": [],
   "source": []
  },
  {
   "cell_type": "code",
   "execution_count": null,
   "metadata": {},
   "outputs": [],
   "source": []
  }
 ],
 "metadata": {
  "kernelspec": {
   "display_name": "Python 3",
   "language": "python",
   "name": "python3"
  },
  "language_info": {
   "codemirror_mode": {
    "name": "ipython",
    "version": 3
   },
   "file_extension": ".py",
   "mimetype": "text/x-python",
   "name": "python",
   "nbconvert_exporter": "python",
   "pygments_lexer": "ipython3",
   "version": "3.6.4"
  }
 },
 "nbformat": 4,
 "nbformat_minor": 2
}
