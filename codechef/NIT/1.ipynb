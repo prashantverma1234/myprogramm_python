{
 "cells": [
  {
   "cell_type": "code",
   "execution_count": 3,
   "metadata": {},
   "outputs": [
    {
     "name": "stdout",
     "output_type": "stream",
     "text": [
      "2\n",
      "6\n",
      "1 0\n",
      "0 2\n",
      "2 5\n",
      "4 4\n",
      "5 0\n",
      "6 2\n",
      "3 2\n",
      "YES\n",
      "3\n",
      "5 6\n",
      "3 5\n",
      "2 8\n",
      "-8 -8\n",
      "NO\n"
     ]
    }
   ],
   "source": [
    "t=int(input())\n",
    "\n",
    "for _ in range(t):\n",
    "    n=int(input())\n",
    "    knight=[]\n",
    "    for i in range(n):\n",
    "        x,y=input().split()\n",
    "        x=int(x)\n",
    "        y=int(y)\n",
    "        \n",
    "        knight.append([x-2,y+1])\n",
    "        knight.append([x-1,y+2])\n",
    "        knight.append([x-1,y-2])\n",
    "        knight.append([x-2,y-1])\n",
    "        knight.append([x+1,y+2])\n",
    "        knight.append([x+2,y+1])\n",
    "        knight.append([x+1,y-2])\n",
    "        knight.append([x+2,y-1])\n",
    "        \n",
    "    a,b=input().split()\n",
    "    a=int(a)\n",
    "    b=int(b)\n",
    "    \n",
    "    king=[]\n",
    "    \n",
    "    king.append([a-1,b])\n",
    "    king.append([a+1,b])\n",
    "    king.append([a,b-1])\n",
    "    king.append([a,b+1])\n",
    "    king.append([a-1,b-1])\n",
    "    king.append([a+1,b+1])\n",
    "    king.append([a-1,b+1])\n",
    "    king.append([a+1,b-1])\n",
    "    \n",
    "    #print(knight)\n",
    "    #print(king)\n",
    "    flag1=0\n",
    "    for k in king:\n",
    "        flag=0\n",
    "        for kn in knight:\n",
    "            if(k==kn):\n",
    "                flag=1\n",
    "                break\n",
    "        if(flag==0):\n",
    "            print(\"NO\")\n",
    "            flag1=1\n",
    "            break\n",
    "            \n",
    "    if(flag1==0):\n",
    "        print(\"YES\")\n",
    "    \n",
    "    "
   ]
  },
  {
   "cell_type": "code",
   "execution_count": null,
   "metadata": {},
   "outputs": [],
   "source": []
  },
  {
   "cell_type": "code",
   "execution_count": null,
   "metadata": {},
   "outputs": [],
   "source": []
  }
 ],
 "metadata": {
  "kernelspec": {
   "display_name": "Python 3",
   "language": "python",
   "name": "python3"
  },
  "language_info": {
   "codemirror_mode": {
    "name": "ipython",
    "version": 3
   },
   "file_extension": ".py",
   "mimetype": "text/x-python",
   "name": "python",
   "nbconvert_exporter": "python",
   "pygments_lexer": "ipython3",
   "version": "3.6.4"
  }
 },
 "nbformat": 4,
 "nbformat_minor": 2
}
