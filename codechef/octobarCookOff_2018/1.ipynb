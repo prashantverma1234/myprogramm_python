{
 "cells": [
  {
   "cell_type": "code",
   "execution_count": 2,
   "metadata": {},
   "outputs": [
    {
     "name": "stdout",
     "output_type": "stream",
     "text": [
      "1\n",
      "2 Dee\n",
      "010\n",
      "101\n",
      "Dee\n"
     ]
    }
   ],
   "source": [
    "t=int(input())\n",
    "\n",
    "for _ in range(t):\n",
    "    n,s=input().split()\n",
    "    n=int(n)\n",
    "    s=str(s)\n",
    "    \n",
    "    noofone1=noofone2=0\n",
    "    for j in range(n):\n",
    "        s1=input()\n",
    "        s1=str(s1)\n",
    "        \n",
    "        \n",
    "        if(s1[0]=='0'):\n",
    "            noofone1=noofone1+1\n",
    "        else:\n",
    "            noofone2=noofone2+1\n",
    " \n",
    "            \n",
    "    if(noofone1 > noofone2):\n",
    "        print(\"Dee\")\n",
    "            \n",
    "    if(noofone1 < noofone2):\n",
    "        print(\"Dum\")  \n",
    "    if((s=='Dee')&(noofone1==noofone2)):\n",
    "        print(\"Dum\")\n",
    "    if((s=='Dum')&(noofone1==noofone2)):\n",
    "        print(\"Dee\")\n",
    "        \n",
    "    \n",
    "        "
   ]
  },
  {
   "cell_type": "code",
   "execution_count": null,
   "metadata": {},
   "outputs": [],
   "source": []
  }
 ],
 "metadata": {
  "kernelspec": {
   "display_name": "Python 3",
   "language": "python",
   "name": "python3"
  },
  "language_info": {
   "codemirror_mode": {
    "name": "ipython",
    "version": 3
   },
   "file_extension": ".py",
   "mimetype": "text/x-python",
   "name": "python",
   "nbconvert_exporter": "python",
   "pygments_lexer": "ipython3",
   "version": "3.6.4"
  }
 },
 "nbformat": 4,
 "nbformat_minor": 2
}
