{
 "cells": [
  {
   "cell_type": "code",
   "execution_count": 54,
   "metadata": {},
   "outputs": [
    {
     "name": "stdout",
     "output_type": "stream",
     "text": [
      "5 45 5\n",
      "2\n"
     ]
    }
   ],
   "source": [
    "n,k,r=input().split()\n",
    "n=int(n)\n",
    "k=int(k)\n",
    "r=int(r)\n",
    "\n",
    "i=1\n",
    "r1=r\n",
    "res=0\n",
    "\n",
    "while(r1<=k):\n",
    "    r0=r*i\n",
    "    res=res+r0\n",
    "    r1=res\n",
    "    i=i+1\n",
    "\n",
    "if(k<r):\n",
    "    print(n)\n",
    "else:\n",
    "    i=i-2\n",
    "    result=n-i\n",
    "    print(result)"
   ]
  },
  {
   "cell_type": "code",
   "execution_count": null,
   "metadata": {},
   "outputs": [],
   "source": []
  },
  {
   "cell_type": "markdown",
   "metadata": {},
   "source": [
    "##### "
   ]
  }
 ],
 "metadata": {
  "kernelspec": {
   "display_name": "Python 3",
   "language": "python",
   "name": "python3"
  },
  "language_info": {
   "codemirror_mode": {
    "name": "ipython",
    "version": 3
   },
   "file_extension": ".py",
   "mimetype": "text/x-python",
   "name": "python",
   "nbconvert_exporter": "python",
   "pygments_lexer": "ipython3",
   "version": "3.7.1"
  }
 },
 "nbformat": 4,
 "nbformat_minor": 2
}
