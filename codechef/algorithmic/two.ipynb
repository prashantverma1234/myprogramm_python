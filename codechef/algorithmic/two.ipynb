{
 "cells": [
  {
   "cell_type": "code",
   "execution_count": 109,
   "metadata": {},
   "outputs": [
    {
     "name": "stdout",
     "output_type": "stream",
     "text": [
      "3\n",
      "2 2\n",
      ".1\n",
      "3 2\n",
      ".15\n",
      "2 3\n",
      ".6666666666666666666666666666666666666666666666666666666666666666666666666666666666666666666666666667\n"
     ]
    }
   ],
   "source": [
    "n = int(input())\n",
    "\n",
    "for test in range(n):\n",
    "\n",
    "    a,b = input().split()\n",
    "    a = int(a)\n",
    "    b = int(b)\n",
    "    \n",
    "    r = a%b\n",
    "    first = str(a//b)\n",
    "    \n",
    "    second = ''\n",
    "\n",
    "    flag = 0\n",
    "    for i in range(101):\n",
    "        r = r*10\n",
    "        if i == 100:\n",
    "            if r//b > 5:\n",
    "                flag = 1\n",
    "        else:\n",
    "            if r//b == 0:\n",
    "                break\n",
    "            second = second+str(r//b)\n",
    "            r = r%b   \n",
    "            \n",
    "    val = int(first+second)\n",
    "\n",
    "    if flag == 1:\n",
    "        val = val+1\n",
    "    \n",
    "    val = str(val)\n",
    "  \n",
    "    length = len(val)-100\n",
    "    \n",
    "    val = val[:length] + '.' + val[length:]\n",
    "    \n",
    "    print(val)           "
   ]
  },
  {
   "cell_type": "code",
   "execution_count": 100,
   "metadata": {},
   "outputs": [],
   "source": [
    "a = '000112'\n"
   ]
  },
  {
   "cell_type": "code",
   "execution_count": 101,
   "metadata": {},
   "outputs": [],
   "source": [
    "first = str(a//b)"
   ]
  },
  {
   "cell_type": "code",
   "execution_count": 102,
   "metadata": {},
   "outputs": [],
   "source": [
    "    second = ''\n",
    "\n",
    "    flag = 0\n",
    "    for i in range(101):\n",
    "        r = r*10\n",
    "        if i == 100:\n",
    "            if r//b > 5:\n",
    "                flag = 1\n",
    "        else:\n",
    "\n",
    "            second = second+str(r//b)\n",
    "            r = r%b"
   ]
  },
  {
   "cell_type": "code",
   "execution_count": 103,
   "metadata": {},
   "outputs": [
    {
     "data": {
      "text/plain": [
       "6666666666666666666666666666666666666666666666666666666666666666666666666666666666666666666666666666"
      ]
     },
     "execution_count": 103,
     "metadata": {},
     "output_type": "execute_result"
    }
   ],
   "source": [
    "val = int(first+second)\n",
    "val"
   ]
  },
  {
   "cell_type": "code",
   "execution_count": 104,
   "metadata": {},
   "outputs": [
    {
     "data": {
      "text/plain": [
       "'.6666666666666666666666666666666666666666666666666666666666666666666666666666666666666666666666666667'"
      ]
     },
     "execution_count": 104,
     "metadata": {},
     "output_type": "execute_result"
    }
   ],
   "source": [
    "    val = int(first+second)\n",
    "\n",
    "    if flag == 1:\n",
    "        val = val+1\n",
    "    \n",
    "    val = str(val)\n",
    "\n",
    "    length = len(val)-100\n",
    "\n",
    "    val = val[:length] + '.' + val[length:]\n",
    "    \n",
    "    print(val)"
   ]
  },
  {
   "cell_type": "code",
   "execution_count": 70,
   "metadata": {},
   "outputs": [
    {
     "data": {
      "text/plain": [
       "100"
      ]
     },
     "execution_count": 70,
     "metadata": {},
     "output_type": "execute_result"
    }
   ],
   "source": []
  },
  {
   "cell_type": "code",
   "execution_count": 53,
   "metadata": {},
   "outputs": [],
   "source": [
    "result = first+second"
   ]
  },
  {
   "cell_type": "code",
   "execution_count": 54,
   "metadata": {},
   "outputs": [
    {
     "data": {
      "text/plain": [
       "'1.7777777777777777777777777777777777777777777777777777777777777777777777777777777777777777777777777777'"
      ]
     },
     "execution_count": 54,
     "metadata": {},
     "output_type": "execute_result"
    }
   ],
   "source": [
    "result"
   ]
  },
  {
   "cell_type": "code",
   "execution_count": null,
   "metadata": {},
   "outputs": [],
   "source": []
  }
 ],
 "metadata": {
  "kernelspec": {
   "display_name": "Python 3",
   "language": "python",
   "name": "python3"
  },
  "language_info": {
   "codemirror_mode": {
    "name": "ipython",
    "version": 3
   },
   "file_extension": ".py",
   "mimetype": "text/x-python",
   "name": "python",
   "nbconvert_exporter": "python",
   "pygments_lexer": "ipython3",
   "version": "3.7.1"
  }
 },
 "nbformat": 4,
 "nbformat_minor": 2
}
