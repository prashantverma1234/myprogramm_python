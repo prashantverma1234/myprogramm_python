{
 "cells": [
  {
   "cell_type": "code",
   "execution_count": null,
   "metadata": {},
   "outputs": [
    {
     "name": "stdout",
     "output_type": "stream",
     "text": [
      "7\n",
      "5 4 5\n",
      "12 4 5 42 2\n",
      "BOB\n",
      "6 4 2\n",
      "1 2 3 34 4 5\n",
      "ALICE\n",
      "4 5 3\n",
      "1 2 3 4\n",
      "ALICE\n",
      "1 3 4\n",
      "4\n",
      "ALICE\n",
      "1 1 1\n",
      "1\n",
      "BOB\n"
     ]
    }
   ],
   "source": [
    "t=int(input())\n",
    "for _ in range(t):\n",
    "    n,a,b=input().split()\n",
    "    n=int(n)\n",
    "    a=int(a)\n",
    "    b=int(b)\n",
    "    \n",
    "    arr=[]\n",
    "    arr=list(map(int, input().split())) \n",
    "    \n",
    "    CN=NN1=NN2=0\n",
    "    \n",
    "    for i in arr:\n",
    "        if(i % a==0 and i % b==0):\n",
    "            CN=CN+1\n",
    "            arr.remove(i)\n",
    "            \n",
    "    for i in arr:\n",
    "        if(i % a==0):\n",
    "            NN1=NN1+1\n",
    "        \n",
    "        if(i % b==0):\n",
    "            NN2=NN2+1\n",
    "    \n",
    "    if(CN%2 !=0 and NN1>=NN2):\n",
    "        print(\"BOB\")\n",
    "    elif(CN%2 !=0 and NN1<NN2):\n",
    "        print(\"ALICE\")\n",
    "    elif(CN%2 ==0 and NN2>=NN1):\n",
    "        print(\"ALICE\")\n",
    "    elif(CN%2 ==0 and NN2<NN1):\n",
    "        print(\"BOB\")\n"
   ]
  },
  {
   "cell_type": "code",
   "execution_count": null,
   "metadata": {},
   "outputs": [],
   "source": []
  },
  {
   "cell_type": "code",
   "execution_count": null,
   "metadata": {},
   "outputs": [],
   "source": []
  }
 ],
 "metadata": {
  "kernelspec": {
   "display_name": "Python 3",
   "language": "python",
   "name": "python3"
  },
  "language_info": {
   "codemirror_mode": {
    "name": "ipython",
    "version": 3
   },
   "file_extension": ".py",
   "mimetype": "text/x-python",
   "name": "python",
   "nbconvert_exporter": "python",
   "pygments_lexer": "ipython3",
   "version": "3.7.1"
  }
 },
 "nbformat": 4,
 "nbformat_minor": 2
}
