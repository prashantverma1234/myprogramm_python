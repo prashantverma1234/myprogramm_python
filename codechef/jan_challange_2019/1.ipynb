{
 "cells": [
  {
   "cell_type": "code",
   "execution_count": 2,
   "metadata": {
    "scrolled": true
   },
   "outputs": [
    {
     "name": "stdout",
     "output_type": "stream",
     "text": [
      "5\n",
      "i am not\n",
      "Real Fancy\n",
      "i am not not \n",
      "Real Fancy\n",
      "i am nothing innot inot notf\n",
      "regularly fancy\n",
      "i am   not  ijd \n",
      "Real Fancy\n",
      "  not  \n",
      "Real Fancy\n"
     ]
    }
   ],
   "source": [
    "t=int(input())\n",
    "\n",
    "for _ in range(t):\n",
    "    s=input()\n",
    "    s1=s.split(\" \")\n",
    "    flag=0\n",
    "    for i in s1:\n",
    "        if(i == \"not\"):\n",
    "            print(\"Real Fancy\")\n",
    "            flag=1\n",
    "            break\n",
    "    if(flag==0):\n",
    "        print(\"regularly fancy\")"
   ]
  },
  {
   "cell_type": "code",
   "execution_count": null,
   "metadata": {},
   "outputs": [],
   "source": [
    "  "
   ]
  },
  {
   "cell_type": "code",
   "execution_count": null,
   "metadata": {},
   "outputs": [],
   "source": []
  },
  {
   "cell_type": "code",
   "execution_count": null,
   "metadata": {},
   "outputs": [],
   "source": []
  }
 ],
 "metadata": {
  "kernelspec": {
   "display_name": "Python 3",
   "language": "python",
   "name": "python3"
  },
  "language_info": {
   "codemirror_mode": {
    "name": "ipython",
    "version": 3
   },
   "file_extension": ".py",
   "mimetype": "text/x-python",
   "name": "python",
   "nbconvert_exporter": "python",
   "pygments_lexer": "ipython3",
   "version": "3.7.1"
  }
 },
 "nbformat": 4,
 "nbformat_minor": 2
}
