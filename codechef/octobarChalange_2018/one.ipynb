{
 "cells": [
  {
   "cell_type": "code",
   "execution_count": null,
   "metadata": {},
   "outputs": [],
   "source": [
    "t=int(input())\n",
    "\n",
    "for _ in range(t):\n",
    "    p1,p2,k=input().split()\n",
    "    p1=int(p1)\n",
    "    p2=int(p2)\n",
    "    k=int(k)\n",
    "    \n",
    "    if(k==1):\n",
    "        r=2\n",
    "    else:\n",
    "        r=k+k\n",
    "    \n",
    "    n=(p1+p2)%r\n",
    "    if(n<k):\n",
    "        print(\"CHEF\")\n",
    "    else:\n",
    "        print(\"COOK\")\n",
    "    \n",
    "    \n",
    "    "
   ]
  },
  {
   "cell_type": "code",
   "execution_count": null,
   "metadata": {},
   "outputs": [],
   "source": []
  }
 ],
 "metadata": {
  "kernelspec": {
   "display_name": "Python 3",
   "language": "python",
   "name": "python3"
  },
  "language_info": {
   "codemirror_mode": {
    "name": "ipython",
    "version": 3
   },
   "file_extension": ".py",
   "mimetype": "text/x-python",
   "name": "python",
   "nbconvert_exporter": "python",
   "pygments_lexer": "ipython3",
   "version": "3.6.4"
  }
 },
 "nbformat": 4,
 "nbformat_minor": 2
}
