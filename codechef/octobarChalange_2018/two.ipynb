{
 "cells": [
  {
   "cell_type": "code",
   "execution_count": null,
   "metadata": {},
   "outputs": [
    {
     "name": "stdout",
     "output_type": "stream",
     "text": [
      "10\n",
      "26\n",
      "0 0 1 \n",
      "27\n",
      "2 0 0 \n"
     ]
    }
   ],
   "source": [
    "t=int(input())\n",
    "for _ in range(t):\n",
    "    n=int(input())\n",
    "    s=0\n",
    "    n=n-1\n",
    "    a=n//26\n",
    "    value=pow(2,a)\n",
    "    \n",
    "    n1=n%26\n",
    "    if(n1==0 or n1==1):\n",
    "        print(value,s,s,end=\" \")\n",
    "        print(\"\\r\")\n",
    "    elif(n1>=10 and n1<26):\n",
    "        print(s,s,value,end=\" \")\n",
    "        print(\"\\r\")\n",
    "    else:\n",
    "        print(s,value,s,end=\" \")\n",
    "        print(\"\\r\")\n",
    "        \n",
    "    "
   ]
  },
  {
   "cell_type": "code",
   "execution_count": null,
   "metadata": {},
   "outputs": [],
   "source": []
  }
 ],
 "metadata": {
  "kernelspec": {
   "display_name": "Python 3",
   "language": "python",
   "name": "python3"
  },
  "language_info": {
   "codemirror_mode": {
    "name": "ipython",
    "version": 3
   },
   "file_extension": ".py",
   "mimetype": "text/x-python",
   "name": "python",
   "nbconvert_exporter": "python",
   "pygments_lexer": "ipython3",
   "version": "3.7.1"
  }
 },
 "nbformat": 4,
 "nbformat_minor": 2
}
