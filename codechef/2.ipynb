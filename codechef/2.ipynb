{
 "cells": [
  {
   "cell_type": "code",
   "execution_count": 4,
   "metadata": {},
   "outputs": [
    {
     "name": "stdout",
     "output_type": "stream",
     "text": [
      "6\n",
      "5 7 1 5\n",
      "Chefirnemo\n",
      "2 2 1 2 \n",
      "Chefirnemo\n",
      "11 10 5 9\n",
      "Chefirnemo\n",
      "11 11 5 9\n",
      "Pofik\n",
      "12 11 5 9\n",
      "Chefirnemo\n",
      "1 2 1 100\n",
      "Pofik\n"
     ]
    }
   ],
   "source": [
    "t=int(input())\n",
    "\n",
    "for _ in range(t):\n",
    "    \n",
    "    n,m,x,y=input().split()\n",
    "    n=int(n)\n",
    "    m=int(m)\n",
    "    x=int(x)\n",
    "    y=int(y)\n",
    "    \n",
    "\n",
    "    a=(n-1)%x\n",
    "    b=(m-1)%y\n",
    "    a=int(a)\n",
    "    b=int(b)\n",
    "    if((n==2 and m==2) or (n==1 and m==1)):\n",
    "        print(\"Chefirnemo\")\n",
    "    elif(x!=1 and y!=1):\n",
    "        if((a==0 and b==0) or (a==1 and b==1)):\n",
    "            print(\"Chefirnemo\")\n",
    "        else:\n",
    "            print(\"Pofik\")\n",
    "    elif(x==1 and y==1):\n",
    "        print(\"Chefirnemo\")\n",
    "    else:\n",
    "        if(x==1):\n",
    "            if(b==0 or (b==1 and n>1)):\n",
    "                print(\"Chefirnemo\")\n",
    "            else:\n",
    "                print(\"Pofik\")\n",
    "        if(y==1):\n",
    "            if(a==0 or (a==1 and m>1)):\n",
    "                print(\"Chefirnemo\")\n",
    "            else:\n",
    "                print(\"Pofik\")\n",
    "                \n",
    "        \n",
    "                "
   ]
  },
  {
   "cell_type": "code",
   "execution_count": null,
   "metadata": {},
   "outputs": [],
   "source": []
  },
  {
   "cell_type": "code",
   "execution_count": null,
   "metadata": {},
   "outputs": [],
   "source": []
  }
 ],
 "metadata": {
  "kernelspec": {
   "display_name": "Python 3",
   "language": "python",
   "name": "python3"
  },
  "language_info": {
   "codemirror_mode": {
    "name": "ipython",
    "version": 3
   },
   "file_extension": ".py",
   "mimetype": "text/x-python",
   "name": "python",
   "nbconvert_exporter": "python",
   "pygments_lexer": "ipython3",
   "version": "3.7.1"
  }
 },
 "nbformat": 4,
 "nbformat_minor": 2
}
