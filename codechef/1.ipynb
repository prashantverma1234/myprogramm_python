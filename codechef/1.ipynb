{
 "cells": [
  {
   "cell_type": "code",
   "execution_count": null,
   "metadata": {},
   "outputs": [],
   "source": [
    "t=int(input())\n",
    "\n",
    "for _ in range(t):\n",
    "    n,x,s=input().split()\n",
    "    n=int(n)\n",
    "    x=int(x)\n",
    "    s=int(s)\n",
    "    temp=x\n",
    "    \n",
    "    for i in range(0,s):\n",
    "        s1,s2=input().split()\n",
    "        s1=int(s1)\n",
    "        s2=int(s2)\n",
    "        \n",
    "        if(temp==s1):\n",
    "            temp=s2\n",
    "        elif(temp==s2):\n",
    "            temp=s1\n",
    "            \n",
    "        \n",
    "        \n",
    "    print(temp)"
   ]
  },
  {
   "cell_type": "code",
   "execution_count": null,
   "metadata": {},
   "outputs": [],
   "source": []
  },
  {
   "cell_type": "code",
   "execution_count": null,
   "metadata": {},
   "outputs": [],
   "source": []
  },
  {
   "cell_type": "code",
   "execution_count": null,
   "metadata": {},
   "outputs": [],
   "source": []
  }
 ],
 "metadata": {
  "kernelspec": {
   "display_name": "Python 3",
   "language": "python",
   "name": "python3"
  },
  "language_info": {
   "codemirror_mode": {
    "name": "ipython",
    "version": 3
   },
   "file_extension": ".py",
   "mimetype": "text/x-python",
   "name": "python",
   "nbconvert_exporter": "python",
   "pygments_lexer": "ipython3",
   "version": "3.6.4"
  }
 },
 "nbformat": 4,
 "nbformat_minor": 2
}
