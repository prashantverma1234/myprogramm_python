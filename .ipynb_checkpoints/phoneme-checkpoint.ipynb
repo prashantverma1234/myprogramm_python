{
 "cells": [
  {
   "cell_type": "code",
   "execution_count": 52,
   "metadata": {},
   "outputs": [],
   "source": [
    "def match(word):\n",
    "\n",
    "    data=['machine','learning','is','an','application','of','artificial','intelligence','that','provides']\n",
    "    \n",
    "    k=0\n",
    "    max1=0\n",
    "    for i in range(0,len(data)):\n",
    "        \n",
    "        temp1 = set(data[i])\n",
    "        temp2 = set(word)\n",
    "        k = len(temp1 & temp2)\n",
    "        if(k>max1):\n",
    "            max1=k\n",
    "            str1=data[i]\n",
    "             \n",
    "             \n",
    "           \n",
    "    print(str1)    \n",
    "    print(\"your word\",word,\"is matched with\",max1,\"charactes\")\n",
    "            \n",
    "    print(\"And accuracy of maching is\",max1/len(word))   "
   ]
  },
  {
   "cell_type": "code",
   "execution_count": 53,
   "metadata": {},
   "outputs": [
    {
     "name": "stdout",
     "output_type": "stream",
     "text": [
      "machine\n",
      "cate\n",
      "4\n",
      "learning\n",
      "cate\n",
      "4\n",
      "is\n",
      "cate\n",
      "4\n",
      "an\n",
      "cate\n",
      "4\n",
      "application\n",
      "cate\n",
      "4\n",
      "of\n",
      "cate\n",
      "4\n",
      "artificial\n",
      "cate\n",
      "4\n",
      "intelligence\n",
      "cate\n",
      "4\n",
      "that\n",
      "cate\n",
      "4\n",
      "provides\n",
      "cate\n",
      "4\n",
      "machine\n",
      "your word cate is matched with 4 charactes\n",
      "And accuracy of maching is 1.0\n"
     ]
    }
   ],
   "source": [
    "match(\"cate\")"
   ]
  },
  {
   "cell_type": "code",
   "execution_count": 58,
   "metadata": {},
   "outputs": [
    {
     "data": {
      "text/plain": [
       "'cate'"
      ]
     },
     "execution_count": 58,
     "metadata": {},
     "output_type": "execute_result"
    }
   ],
   "source": [
    "\"machine\" and \"cate\""
   ]
  },
  {
   "cell_type": "code",
   "execution_count": null,
   "metadata": {},
   "outputs": [],
   "source": []
  }
 ],
 "metadata": {
  "kernelspec": {
   "display_name": "Python 3",
   "language": "python",
   "name": "python3"
  },
  "language_info": {
   "codemirror_mode": {
    "name": "ipython",
    "version": 3
   },
   "file_extension": ".py",
   "mimetype": "text/x-python",
   "name": "python",
   "nbconvert_exporter": "python",
   "pygments_lexer": "ipython3",
   "version": "3.6.4"
  }
 },
 "nbformat": 4,
 "nbformat_minor": 2
}
